{
 "cells": [
  {
   "cell_type": "code",
   "execution_count": 4,
   "id": "0f22462d",
   "metadata": {},
   "outputs": [],
   "source": [
    "import requests"
   ]
  },
  {
   "cell_type": "code",
   "execution_count": 7,
   "id": "5d0ae876",
   "metadata": {},
   "outputs": [],
   "source": [
    "response=requests.get(\"https://codingninjas.in/api/v3/courses\")"
   ]
  },
  {
   "cell_type": "code",
   "execution_count": 9,
   "id": "26b30e26",
   "metadata": {},
   "outputs": [
    {
     "name": "stdout",
     "output_type": "stream",
     "text": [
      "200\n"
     ]
    }
   ],
   "source": [
    "print(response.status_code)"
   ]
  },
  {
   "cell_type": "code",
   "execution_count": 26,
   "id": "e24c684a",
   "metadata": {},
   "outputs": [
    {
     "name": "stdout",
     "output_type": "stream",
     "text": [
      "<class 'dict'>\n",
      "Boy\n"
     ]
    }
   ],
   "source": [
    "import json\n",
    "json_data='{\"Student\": \"Boy\"}'\n",
    "python_data=json.loads(json_data)\n",
    "print(type(python_data))\n",
    "print(python_data['Student'])"
   ]
  },
  {
   "cell_type": "code",
   "execution_count": 28,
   "id": "e410b86e",
   "metadata": {},
   "outputs": [
    {
     "name": "stdout",
     "output_type": "stream",
     "text": [
      "101\n"
     ]
    }
   ],
   "source": [
    "json_data='{\"roll_number\":101}'\n",
    "python_data=json.loads(json_data)\n",
    "print(python_data['roll_number'])"
   ]
  },
  {
   "cell_type": "code",
   "execution_count": 31,
   "id": "63990ae7",
   "metadata": {},
   "outputs": [
    {
     "name": "stdout",
     "output_type": "stream",
     "text": [
      "<class 'NoneType'>\n"
     ]
    }
   ],
   "source": [
    "json_data='{\"roll_number\":null}'\n",
    "python_data=json.loads(json_data)\n",
    "print(type(python_data['roll_number']))"
   ]
  },
  {
   "cell_type": "code",
   "execution_count": 39,
   "id": "5a0ac9ef",
   "metadata": {},
   "outputs": [
    {
     "name": "stdout",
     "output_type": "stream",
     "text": [
      "{'Name': 'Boy', 'Roll_no': 101}\n",
      "Boy\n",
      "Boy\n",
      "101\n"
     ]
    }
   ],
   "source": [
    "json_data='{\"Student\" :{\"Name\" : \"Boy\",\"Roll_no\":101}}'\n",
    "python_data=json.loads(json_data)\n",
    "print(python_data['Student'])\n",
    "print(python_data['Student']['Name'])\n",
    "\n",
    "student_details=python_data['Student']\n",
    "print(student_details['Name'])\n",
    "print(student_details['Roll_no'])"
   ]
  },
  {
   "cell_type": "code",
   "execution_count": 43,
   "id": "5aa55a63",
   "metadata": {},
   "outputs": [
    {
     "name": "stdout",
     "output_type": "stream",
     "text": [
      "<class 'dict'>\n",
      "<class 'list'>\n",
      "4\n",
      "Apple\n",
      "Mango\n",
      "Pineapple\n",
      "Orange\n"
     ]
    }
   ],
   "source": [
    "json_data='{\"Fruits\":[\"Apple\",\"Mango\",\"Pineapple\",\"Orange\"]}'\n",
    "python_data=json.loads(json_data)\n",
    "print(type(python_data))\n",
    "print(type(python_data['Fruits']))\n",
    "print(len(python_data['Fruits']))\n",
    "\n",
    "for i in python_data['Fruits']:\n",
    "    print(i)"
   ]
  },
  {
   "cell_type": "code",
   "execution_count": 92,
   "id": "c7247d09",
   "metadata": {},
   "outputs": [
    {
     "name": "stdout",
     "output_type": "stream",
     "text": [
      "<class 'dict'>\n",
      "<class 'list'> \n",
      "\n",
      "System Design Course\n",
      "C++ Foundation with Data Structures\n",
      "Premium Machine Learning Course\n",
      "Ninja Competitive Programmer Track\n",
      "Premium Android App Development\n",
      "Premium Data structures and Algorithms [C++/Java/Python]\n",
      "Machine Learning & Deep Learning Course\n",
      "Premium Full Stack Web Development\n",
      "Advanced  Front-End Web Development with React\n",
      "Premium Data Science Course\n",
      "Premium Competitive Programming Course\n",
      "Full Stack Web Development\n",
      "Ninja Android Developer Career Track\n",
      "JAVA Foundation with Data Structures\n",
      "Ninja  Web Developer Career Track - NodeJS & ReactJs\n",
      "Grokking the Operating Systems Interview\n",
      "Data Science & Machine Learning Complete\n",
      "Interview Preparation Course\n",
      "Ninja  Web Developer Career Track - NodeJS\n",
      "Competitive Programming Course\n",
      "Android Development with Kotlin\n",
      "Ninja Data Scientist Career Track\n",
      "Python Foundation with Data Structures\n",
      "Aptitude Preparation Course\n",
      "Ninja Machine Learning Engineer Career Track\n"
     ]
    }
   ],
   "source": [
    "python_data=json.loads(response.text)\n",
    "print(type(python_data))\n",
    "\n",
    "all_courses=python_data['data']['courses']\n",
    "print(type(all_courses),\"\\n\")\n",
    "\n",
    "# print(\"\\nAll Courses:\")\n",
    "# for i in all_courses:\n",
    "#     print(i['title'])\n",
    "# print(\"\\n\",len(all_courses))\n",
    "for i in all_courses:\n",
    "    if(i['available_online']==True):\n",
    "        print(i['name'].strip())"
   ]
  },
  {
   "cell_type": "code",
   "execution_count": 66,
   "id": "81c0bba4",
   "metadata": {},
   "outputs": [
    {
     "name": "stdout",
     "output_type": "stream",
     "text": [
      "<class 'dict'> \n",
      "\n",
      "blenheim\n",
      "brittany\n",
      "cocker\n",
      "irish\n",
      "japanese\n",
      "sussex\n",
      "welsh\n"
     ]
    }
   ],
   "source": [
    "doge=requests.get(\"https://dog.ceo/api/breeds/list/all\")\n",
    "\n",
    "# instead of importing json and using json.loads() here\n",
    "# an alternative .json() func is used present in requests\n",
    "# library as it performs the same task\n",
    "\n",
    "python_data=doge.json()\n",
    "print(type(python_data),\"\\n\")\n",
    "# print(python_data)\n",
    "\n",
    "# for key,val in python_data['message'].items():\n",
    "#     print(key, \" : \", len(val))\n",
    "    \n",
    "for i in python_data['message']['spaniel']:\n",
    "    print(i)"
   ]
  },
  {
   "cell_type": "markdown",
   "id": "cdfc2033",
   "metadata": {},
   "source": [
    "## param"
   ]
  },
  {
   "cell_type": "code",
   "execution_count": 121,
   "id": "0969f138",
   "metadata": {},
   "outputs": [
    {
     "name": "stdout",
     "output_type": "stream",
     "text": [
      "{'meta': {'name': 'openaq-api', 'license': 'CC BY 4.0d', 'website': 'https://u50g7n0cbj.execute-api.us-east-1.amazonaws.com/', 'page': 1, 'limit': 1, 'found': 1}, 'results': [{'code': 'AE', 'count': 5764752629.0, 'locations': 5, 'cities': 3, 'name': 'United Arab Emirates'}]}\n"
     ]
    }
   ],
   "source": [
    "aqi=requests.get('https://api.openaq.org/v1/countries',params={\"country\":\"AE\",\"limit\":1})\n",
    "print(aqi.json())"
   ]
  },
  {
   "cell_type": "code",
   "execution_count": 107,
   "id": "06d646b0",
   "metadata": {},
   "outputs": [
    {
     "name": "stdout",
     "output_type": "stream",
     "text": [
      "200\n",
      "https://www.metaweather.com/api/location/search/?query=Delhi\n",
      "[{'title': 'New Delhi', 'location_type': 'City', 'woeid': 28743736, 'latt_long': '28.643999,77.091003'}]\n"
     ]
    }
   ],
   "source": [
    "weather=requests.get(\"https://www.metaweather.com/api/location/search/\",params={\"query\":\"Delhi\"})\n",
    "print(weather.status_code)\n",
    "print(weather.url)\n",
    "print(weather.json())"
   ]
  },
  {
   "cell_type": "code",
   "execution_count": 120,
   "id": "06fc316d",
   "metadata": {},
   "outputs": [
    {
     "name": "stdout",
     "output_type": "stream",
     "text": [
      "200\n",
      "https://api.nasa.gov/planetary/apod?api_key=DEMO_KEY\n"
     ]
    }
   ],
   "source": [
    "nasa=requests.get(\" https://api.nasa.gov/planetary/apod\",params={\"api_key\":\"DEMO_KEY\"})\n",
    "print(nasa.status_code)\n",
    "print(nasa.url)"
   ]
  },
  {
   "cell_type": "markdown",
   "id": "4e5c476d",
   "metadata": {},
   "source": [
    "## post"
   ]
  },
  {
   "cell_type": "code",
   "execution_count": 123,
   "id": "b25e582c",
   "metadata": {},
   "outputs": [
    {
     "name": "stdout",
     "output_type": "stream",
     "text": [
      "200\n",
      "{\n",
      "  \"args\": {}, \n",
      "  \"data\": \"\", \n",
      "  \"files\": {}, \n",
      "  \"form\": {}, \n",
      "  \"headers\": {\n",
      "    \"Accept\": \"*/*\", \n",
      "    \"Accept-Encoding\": \"gzip, deflate\", \n",
      "    \"Content-Length\": \"0\", \n",
      "    \"Host\": \"httpbin.org\", \n",
      "    \"User-Agent\": \"python-requests/2.26.0\", \n",
      "    \"X-Amzn-Trace-Id\": \"Root=1-61a540c8-30fbf19234b3f0ac7a884a3e\"\n",
      "  }, \n",
      "  \"json\": null, \n",
      "  \"origin\": \"49.36.217.224\", \n",
      "  \"url\": \"http://httpbin.org/post\"\n",
      "}\n",
      "\n"
     ]
    }
   ],
   "source": [
    "httpres=requests.post(\"http://httpbin.org/post\")\n",
    "print(httpres.status_code)\n",
    "print(httpres.text)"
   ]
  },
  {
   "cell_type": "code",
   "execution_count": 126,
   "id": "eafd98f1",
   "metadata": {},
   "outputs": [
    {
     "name": "stdout",
     "output_type": "stream",
     "text": [
      "200\n",
      "{\n",
      "  \"args\": {}, \n",
      "  \"data\": \"\", \n",
      "  \"files\": {}, \n",
      "  \"form\": {\n",
      "    \"Key1\": \"val1\", \n",
      "    \"Key2\": \"val2\"\n",
      "  }, \n",
      "  \"headers\": {\n",
      "    \"Accept\": \"*/*\", \n",
      "    \"Accept-Encoding\": \"gzip, deflate\", \n",
      "    \"Content-Length\": \"19\", \n",
      "    \"Content-Type\": \"application/x-www-form-urlencoded\", \n",
      "    \"Host\": \"httpbin.org\", \n",
      "    \"User-Agent\": \"python-requests/2.26.0\", \n",
      "    \"X-Amzn-Trace-Id\": \"Root=1-61a5413c-2f5d0e8a427414e9408b9cac\"\n",
      "  }, \n",
      "  \"json\": null, \n",
      "  \"origin\": \"49.36.217.224\", \n",
      "  \"url\": \"http://httpbin.org/post\"\n",
      "}\n",
      "\n"
     ]
    }
   ],
   "source": [
    "# see the form key in answer\n",
    "httpres=requests.post(\"http://httpbin.org/post\",data={\"Key1\":'val1','Key2':'val2'})\n",
    "print(httpres.status_code)\n",
    "print(httpres.text)"
   ]
  },
  {
   "cell_type": "code",
   "execution_count": 128,
   "id": "3a7541af",
   "metadata": {},
   "outputs": [
    {
     "name": "stdout",
     "output_type": "stream",
     "text": [
      "200\n",
      "{\n",
      "  \"args\": {}, \n",
      "  \"data\": \"\", \n",
      "  \"files\": {}, \n",
      "  \"form\": {\n",
      "    \"Key1\": [\n",
      "      \"val1\", \n",
      "      \"val3\"\n",
      "    ], \n",
      "    \"Key2\": \"val2\"\n",
      "  }, \n",
      "  \"headers\": {\n",
      "    \"Accept\": \"*/*\", \n",
      "    \"Accept-Encoding\": \"gzip, deflate\", \n",
      "    \"Content-Length\": \"29\", \n",
      "    \"Content-Type\": \"application/x-www-form-urlencoded\", \n",
      "    \"Host\": \"httpbin.org\", \n",
      "    \"User-Agent\": \"python-requests/2.26.0\", \n",
      "    \"X-Amzn-Trace-Id\": \"Root=1-61a5417e-22704c2f5bd509900e641244\"\n",
      "  }, \n",
      "  \"json\": null, \n",
      "  \"origin\": \"49.36.217.224\", \n",
      "  \"url\": \"http://httpbin.org/post\"\n",
      "}\n",
      "\n"
     ]
    }
   ],
   "source": [
    "httpres=requests.post(\"http://httpbin.org/post\",data={\"Key1\":['val1','val3'],'Key2':'val2'})\n",
    "print(httpres.status_code)\n",
    "print(httpres.text)"
   ]
  },
  {
   "cell_type": "code",
   "execution_count": 130,
   "id": "55c25b75",
   "metadata": {},
   "outputs": [
    {
     "name": "stdout",
     "output_type": "stream",
     "text": [
      "200\n",
      "{\n",
      "  \"args\": {}, \n",
      "  \"data\": \"\", \n",
      "  \"files\": {}, \n",
      "  \"form\": {\n",
      "    \"key1\": [\n",
      "      \"val1\", \n",
      "      \"val2\"\n",
      "    ], \n",
      "    \"key3\": \"val3\"\n",
      "  }, \n",
      "  \"headers\": {\n",
      "    \"Accept\": \"*/*\", \n",
      "    \"Accept-Encoding\": \"gzip, deflate\", \n",
      "    \"Content-Length\": \"29\", \n",
      "    \"Content-Type\": \"application/x-www-form-urlencoded\", \n",
      "    \"Host\": \"httpbin.org\", \n",
      "    \"User-Agent\": \"python-requests/2.26.0\", \n",
      "    \"X-Amzn-Trace-Id\": \"Root=1-61a541ea-678cc6240a3e5d2817abe18a\"\n",
      "  }, \n",
      "  \"json\": null, \n",
      "  \"origin\": \"49.36.217.224\", \n",
      "  \"url\": \"http://httpbin.org/post\"\n",
      "}\n",
      "\n"
     ]
    }
   ],
   "source": [
    "httpres=requests.post(\"http://httpbin.org/post\",data=[('key1','val1'),('key1','val2'),('key3','val3')])\n",
    "print(httpres.status_code)\n",
    "print(httpres.text)"
   ]
  },
  {
   "cell_type": "code",
   "execution_count": 138,
   "id": "c3b82ac9",
   "metadata": {},
   "outputs": [
    {
     "name": "stdout",
     "output_type": "stream",
     "text": [
      "<Response [201]>\n",
      "{\n",
      "  \"id\": 101\n",
      "}\n"
     ]
    }
   ],
   "source": [
    "r=requests.post(\"https://jsonplaceholder.typicode.com/posts\")\n",
    "print(r)\n",
    "print(r.text)"
   ]
  },
  {
   "cell_type": "code",
   "execution_count": 139,
   "id": "c639b019",
   "metadata": {},
   "outputs": [
    {
     "name": "stdout",
     "output_type": "stream",
     "text": [
      "<Response [201]>\n",
      "{\n",
      "  \"userId\": \"2\",\n",
      "  \"id\": 101,\n",
      "  \"title\": \"test\"\n",
      "}\n"
     ]
    }
   ],
   "source": [
    "r=requests.post(\"https://jsonplaceholder.typicode.com/posts\",data={'userId':2,'id':200,'title':'test'})\n",
    "print(r)\n",
    "print(r.text)"
   ]
  },
  {
   "cell_type": "code",
   "execution_count": null,
   "id": "9d9a5388",
   "metadata": {},
   "outputs": [],
   "source": []
  }
 ],
 "metadata": {
  "kernelspec": {
   "display_name": "Python 3 (ipykernel)",
   "language": "python",
   "name": "python3"
  },
  "language_info": {
   "codemirror_mode": {
    "name": "ipython",
    "version": 3
   },
   "file_extension": ".py",
   "mimetype": "text/x-python",
   "name": "python",
   "nbconvert_exporter": "python",
   "pygments_lexer": "ipython3",
   "version": "3.10.0"
  }
 },
 "nbformat": 4,
 "nbformat_minor": 5
}
