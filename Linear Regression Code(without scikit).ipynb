{
 "cells": [
  {
   "cell_type": "code",
   "execution_count": 1,
   "id": "896bd0c8",
   "metadata": {},
   "outputs": [],
   "source": [
    "import numpy as np"
   ]
  },
  {
   "cell_type": "code",
   "execution_count": 2,
   "id": "ef6bcfa6",
   "metadata": {},
   "outputs": [],
   "source": [
    "data=np.loadtxt(\"data.csv\",delimiter=\",\")"
   ]
  },
  {
   "cell_type": "code",
   "execution_count": 5,
   "id": "d103d7fc",
   "metadata": {},
   "outputs": [],
   "source": [
    "x=data[:,0]\n",
    "y=data[:,1]"
   ]
  },
  {
   "cell_type": "code",
   "execution_count": 7,
   "id": "6839fab7",
   "metadata": {},
   "outputs": [
    {
     "data": {
      "text/plain": [
       "((100,), (100,))"
      ]
     },
     "execution_count": 7,
     "metadata": {},
     "output_type": "execute_result"
    }
   ],
   "source": [
    "x.shape,y.shape"
   ]
  },
  {
   "cell_type": "code",
   "execution_count": 12,
   "id": "62b3ecfe",
   "metadata": {},
   "outputs": [
    {
     "data": {
      "text/plain": [
       "(70,)"
      ]
     },
     "execution_count": 12,
     "metadata": {},
     "output_type": "execute_result"
    }
   ],
   "source": [
    "from sklearn import model_selection\n",
    "X_train,X_test,Y_train,Y_test=model_selection.train_test_split(x,y,test_size=0.3)\n",
    "# by default test_size is 0.25 i.e. 25%\n",
    "X_train.shape"
   ]
  },
  {
   "cell_type": "markdown",
   "id": "9b76e8ba",
   "metadata": {},
   "source": [
    "### fit function"
   ]
  },
  {
   "cell_type": "code",
   "execution_count": 52,
   "id": "54c3feac",
   "metadata": {},
   "outputs": [],
   "source": [
    "def fit(x_train,y_train):\n",
    "    num=(x_train*y_train).mean()-(x_train.mean()*y_train.mean())\n",
    "    den=(x_train**2).mean()-(x.mean()**2)\n",
    "    m=num/den\n",
    "    c=y_train.mean() - m * x_train.mean()\n",
    "    return m,c"
   ]
  },
  {
   "cell_type": "markdown",
   "id": "ac6dd516",
   "metadata": {},
   "source": [
    "### predict function"
   ]
  },
  {
   "cell_type": "code",
   "execution_count": 18,
   "id": "d034e869",
   "metadata": {},
   "outputs": [],
   "source": [
    "def predict(x,m,c):\n",
    "    return m*x + c"
   ]
  },
  {
   "cell_type": "markdown",
   "id": "c7e594c5",
   "metadata": {},
   "source": [
    "### score function / coefficient of determination"
   ]
  },
  {
   "cell_type": "code",
   "execution_count": 57,
   "id": "572b7ba7",
   "metadata": {},
   "outputs": [],
   "source": [
    "def score(y_truth,y_pred):\n",
    "    u=((y_truth-y_pred)**2).sum()\n",
    "    v=((y_truth-y_truth.mean())**2).sum()\n",
    "    return 1-(u/v)"
   ]
  },
  {
   "cell_type": "markdown",
   "id": "3fb99b65",
   "metadata": {},
   "source": [
    "### cost function"
   ]
  },
  {
   "cell_type": "code",
   "execution_count": 61,
   "id": "7b0438bf",
   "metadata": {},
   "outputs": [],
   "source": [
    "def cost(x,y,m,c):\n",
    "    return ((y-m*x-c)**2).mean()"
   ]
  },
  {
   "cell_type": "markdown",
   "id": "6ad98757",
   "metadata": {},
   "source": [
    "### calling "
   ]
  },
  {
   "cell_type": "code",
   "execution_count": 62,
   "id": "f0422190",
   "metadata": {},
   "outputs": [
    {
     "name": "stdout",
     "output_type": "stream",
     "text": [
      "Test Score:  0.6584656378058511\n",
      "Train Score:  0.5491405526199724\n",
      "m= 1.3008179693836093, c= 8.220778618954782\n",
      "Cost on training data:  105.36167376160668\n"
     ]
    }
   ],
   "source": [
    "m,c=fit(X_train,Y_train)\n",
    "# test-data\n",
    "y_test_pred=predict(X_test,m,c)\n",
    "print(\"Test Score: \",score(Y_test,y_test_pred))\n",
    "\n",
    "# # train data\n",
    "y_train_pred=predict(X_train,m,c)\n",
    "print(\"Train Score: \",score(Y_train,y_train_pred))\n",
    "\n",
    "print(f\"m= {m}, c= {c}\")\n",
    "\n",
    "print(\"Cost on training data: \",cost(X_train,Y_train,m,c))"
   ]
  },
  {
   "cell_type": "code",
   "execution_count": null,
   "id": "9ce58cf7",
   "metadata": {},
   "outputs": [],
   "source": []
  }
 ],
 "metadata": {
  "kernelspec": {
   "display_name": "Python 3 (ipykernel)",
   "language": "python",
   "name": "python3"
  },
  "language_info": {
   "codemirror_mode": {
    "name": "ipython",
    "version": 3
   },
   "file_extension": ".py",
   "mimetype": "text/x-python",
   "name": "python",
   "nbconvert_exporter": "python",
   "pygments_lexer": "ipython3",
   "version": "3.10.0"
  }
 },
 "nbformat": 4,
 "nbformat_minor": 5
}
