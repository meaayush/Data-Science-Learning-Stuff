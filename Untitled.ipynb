{
 "cells": [
  {
   "cell_type": "code",
   "execution_count": 1,
   "id": "80110440",
   "metadata": {},
   "outputs": [],
   "source": [
    "from sklearn import datasets"
   ]
  },
  {
   "cell_type": "code",
   "execution_count": 14,
   "id": "b2b07a20",
   "metadata": {},
   "outputs": [],
   "source": [
    "boston=datasets.load_boston()\n",
    "X=boston.data\n",
    "Y=boston.target"
   ]
  },
  {
   "cell_type": "code",
   "execution_count": 3,
   "id": "fbb6e956",
   "metadata": {},
   "outputs": [
    {
     "data": {
      "text/plain": [
       "Index(['CRIM', 'ZN', 'INDUS', 'CHAS', 'NOX', 'RM', 'AGE', 'DIS', 'RAD', 'TAX',\n",
       "       'PTRATIO', 'B', 'LSTAT'],\n",
       "      dtype='object')"
      ]
     },
     "execution_count": 3,
     "metadata": {},
     "output_type": "execute_result"
    }
   ],
   "source": [
    "import pandas as pd\n",
    "df=pd.DataFrame(X)\n",
    "df.columns=boston.feature_names\n",
    "df.columns"
   ]
  },
  {
   "cell_type": "code",
   "execution_count": 4,
   "id": "cfba869e",
   "metadata": {},
   "outputs": [],
   "source": [
    "# boston.DESCR"
   ]
  },
  {
   "cell_type": "markdown",
   "id": "dca97a21",
   "metadata": {},
   "source": [
    "### adding new columns to improve the score "
   ]
  },
  {
   "cell_type": "code",
   "execution_count": 5,
   "id": "0fcfd38f",
   "metadata": {},
   "outputs": [],
   "source": [
    "column_names=list(map(str,boston.feature_names))\n",
    "i=0\n",
    "while i<len(column_names):\n",
    "    j=i\n",
    "    while j<len(column_names):\n",
    "        i1=column_names[i]\n",
    "        j1=column_names[j]\n",
    "        df[i1+\"_\"+j1]=df[i1]*df[j1]\n",
    "        j+=1\n",
    "    i+=1"
   ]
  },
  {
   "cell_type": "code",
   "execution_count": 6,
   "id": "cc351f40",
   "metadata": {},
   "outputs": [],
   "source": [
    "# df.head()\n",
    "X_NEW=df.values"
   ]
  },
  {
   "cell_type": "code",
   "execution_count": 7,
   "id": "6e62dfdf",
   "metadata": {},
   "outputs": [],
   "source": [
    "from sklearn import model_selection\n",
    "X_train,X_test,Y_train,Y_test=model_selection.train_test_split(X,Y,random_state=0)\n",
    "X_NEW_train,X_NEW_test,Y_NEW_train,Y_NEW_test=model_selection.train_test_split(X_NEW,Y,random_state=0)"
   ]
  },
  {
   "cell_type": "code",
   "execution_count": 8,
   "id": "b8983f7d",
   "metadata": {},
   "outputs": [],
   "source": [
    "from sklearn.linear_model import LinearRegression\n",
    "alg1=LinearRegression()\n",
    "alg_NEW=LinearRegression()"
   ]
  },
  {
   "cell_type": "code",
   "execution_count": 9,
   "id": "bc33f847",
   "metadata": {
    "scrolled": true
   },
   "outputs": [
    {
     "data": {
      "text/plain": [
       "LinearRegression()"
      ]
     },
     "execution_count": 9,
     "metadata": {},
     "output_type": "execute_result"
    }
   ],
   "source": [
    "alg1.fit(X_train,Y_train)\n",
    "alg_NEW.fit(X_NEW_train,Y_NEW_train)"
   ]
  },
  {
   "cell_type": "code",
   "execution_count": 10,
   "id": "b726157d",
   "metadata": {},
   "outputs": [
    {
     "name": "stdout",
     "output_type": "stream",
     "text": [
      "Train Score: 0.7697699488741149 Test Score: 0.635463843320212\n",
      "Train Score: 0.952051960903273 Test Score: 0.6074721959459117\n"
     ]
    }
   ],
   "source": [
    "Y_pred=alg1.predict(X_test)\n",
    "train_score=alg1.score(X_train,Y_train)\n",
    "test_score=alg1.score(X_test,Y_test)\n",
    "print(f\"Train Score: {train_score} Test Score: {test_score}\")\n",
    "\n",
    "train_NEW_score=alg_NEW.score(X_NEW_train,Y_NEW_train)\n",
    "test_NEW_score=alg_NEW.score(X_NEW_test,Y_NEW_test)\n",
    "print(f\"Train Score: {train_NEW_score} Test Score: {test_NEW_score}\")"
   ]
  },
  {
   "cell_type": "code",
   "execution_count": 21,
   "id": "9c9f433f",
   "metadata": {},
   "outputs": [
    {
     "data": {
      "text/plain": [
       "104"
      ]
     },
     "execution_count": 21,
     "metadata": {},
     "output_type": "execute_result"
    }
   ],
   "source": [
    "alg_NEW.n_features_in_"
   ]
  },
  {
   "cell_type": "code",
   "execution_count": 11,
   "id": "fe230ee2",
   "metadata": {},
   "outputs": [],
   "source": [
    "# import matplotlib.pyplot as plt\n",
    "# plt.scatter(Y_test,Y_pred)\n",
    "# plt.axis([0,40,0,40])\n",
    "# plt.show()"
   ]
  }
 ],
 "metadata": {
  "kernelspec": {
   "display_name": "Python 3 (ipykernel)",
   "language": "python",
   "name": "python3"
  },
  "language_info": {
   "codemirror_mode": {
    "name": "ipython",
    "version": 3
   },
   "file_extension": ".py",
   "mimetype": "text/x-python",
   "name": "python",
   "nbconvert_exporter": "python",
   "pygments_lexer": "ipython3",
   "version": "3.10.0"
  }
 },
 "nbformat": 4,
 "nbformat_minor": 5
}
