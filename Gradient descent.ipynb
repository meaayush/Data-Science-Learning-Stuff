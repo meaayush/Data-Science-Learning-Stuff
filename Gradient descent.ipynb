{
 "cells": [
  {
   "cell_type": "code",
   "execution_count": 1,
   "id": "5943ffc2",
   "metadata": {},
   "outputs": [],
   "source": [
    "import numpy as np"
   ]
  },
  {
   "cell_type": "code",
   "execution_count": 14,
   "id": "282701bb",
   "metadata": {},
   "outputs": [],
   "source": [
    "# batch gradient descent\n",
    "def step_gradient(points,learning_rate,m,c):\n",
    "    m_slope=0\n",
    "    c_slope=0\n",
    "    M=len(points)\n",
    "    for i in range(M):\n",
    "        x=points[i,0]\n",
    "        y=points[i,1]\n",
    "        m_slope+=(-2/M)*(y-m*x-c)*x\n",
    "        c_slope+=(-2/M)*(y-m*x-c)\n",
    "    new_m=m-learning_rate*m_slope\n",
    "    new_c=c-learning_rate*c_slope\n",
    "    return new_m,new_c"
   ]
  },
  {
   "cell_type": "code",
   "execution_count": 10,
   "id": "56128eb3",
   "metadata": {},
   "outputs": [],
   "source": [
    "def gd(points,learning_rate,num_iterations):\n",
    "    m=0\n",
    "    c=0\n",
    "    for i in range(num_iterations):\n",
    "        m,c=step_gradient(points,learning_rate,m,c)\n",
    "        print(i,\"Cost: \",cost(points,m,c))\n",
    "    return m,c"
   ]
  },
  {
   "cell_type": "code",
   "execution_count": 4,
   "id": "e367f693",
   "metadata": {},
   "outputs": [],
   "source": [
    "def cost(points,m,c):\n",
    "    total_cost=0\n",
    "    M=len(points)\n",
    "    for i in range(M):\n",
    "        x=points[i,0]\n",
    "        y=points[i,1]\n",
    "        total_cost+=(1/M)*((y-m*x-c)**2)\n",
    "    return total_cost"
   ]
  },
  {
   "cell_type": "code",
   "execution_count": 13,
   "id": "20df600f",
   "metadata": {},
   "outputs": [],
   "source": [
    "# works exactly the same as the above function :- tried and tested :)\n",
    "# def costs(points,m,c):\n",
    "#     x=points[:,0]\n",
    "#     y=points[:,1]\n",
    "#     return ((y-m*x-c)**2).mean()"
   ]
  },
  {
   "cell_type": "code",
   "execution_count": null,
   "id": "03661ded",
   "metadata": {},
   "outputs": [],
   "source": [
    "# def gen_step_gradient(points,learning_rate,m,c):\n",
    "#     m_slope=np.zeros(points[0].size)\n",
    "#     c_slope=np.zeros(points[0].size)\n",
    "#     M=len(points)\n",
    "#     for i in range(M):\n",
    "#         x=points[i,0]\n",
    "#         y=points[i,1]\n",
    "#         m_slope+=(-2/M)*(y-m*x-c)*x\n",
    "#         c_slope+=(-2/M)*(y-m*x-c)\n",
    "#     new_m=m-learning_rate*m_slope\n",
    "#     new_c=c-learning_rate*c_slope\n",
    "#     return new_m,new_c"
   ]
  },
  {
   "cell_type": "code",
   "execution_count": null,
   "id": "36136465",
   "metadata": {},
   "outputs": [],
   "source": [
    "# def gen_gd(points,learning_rate,num_iterations):\n",
    "#     m=np.zeros(points[0].size)\n",
    "#     c=np.zeros(points[0].size)\n",
    "#     for i in range(num_iterations):\n",
    "#         m,c=gen_step_gradient(points,learning_rate,m,c)\n",
    "# #         print(i,\"Cost: \",cost(points,m,c))\n",
    "#     return m,c"
   ]
  },
  {
   "cell_type": "code",
   "execution_count": 17,
   "id": "d98b3a3a",
   "metadata": {},
   "outputs": [],
   "source": [
    "def run():\n",
    "    data=np.loadtxt(\"data.csv\",delimiter=\",\")\n",
    "    learning_rate=0.0001\n",
    "    num_iterations=10 #100 will give precise answer in this case\n",
    "    m,c=gd(data,learning_rate,num_iterations)\n",
    "#     m,c=gen_gd(data,learning_rat,num_iterations)\n",
    "    print(m,c)"
   ]
  },
  {
   "cell_type": "code",
   "execution_count": 16,
   "id": "faa6725c",
   "metadata": {},
   "outputs": [
    {
     "name": "stdout",
     "output_type": "stream",
     "text": [
      "0   Cost:  1484.5865574086486\n",
      "1   Cost:  457.8542575737672\n",
      "2   Cost:  199.5099857255389\n",
      "3   Cost:  134.50591058200533\n",
      "4   Cost:  118.1496934223995\n",
      "5   Cost:  114.0341490603815\n",
      "6   Cost:  112.99857731713657\n",
      "7   Cost:  112.73798187568467\n",
      "8   Cost:  112.6723843590911\n",
      "9   Cost:  112.65585181499745\n",
      "1.47741737554838 0.029639347874732384\n"
     ]
    }
   ],
   "source": [
    "run()"
   ]
  }
 ],
 "metadata": {
  "kernelspec": {
   "display_name": "Python 3 (ipykernel)",
   "language": "python",
   "name": "python3"
  },
  "language_info": {
   "codemirror_mode": {
    "name": "ipython",
    "version": 3
   },
   "file_extension": ".py",
   "mimetype": "text/x-python",
   "name": "python",
   "nbconvert_exporter": "python",
   "pygments_lexer": "ipython3",
   "version": "3.10.0"
  }
 },
 "nbformat": 4,
 "nbformat_minor": 5
}
